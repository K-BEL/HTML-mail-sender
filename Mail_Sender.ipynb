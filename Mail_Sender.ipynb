{
 "cells": [
  {
   "cell_type": "code",
   "execution_count": 1,
   "metadata": {},
   "outputs": [],
   "source": [
    "import smtplib\n",
    "import time\n",
    "import ssl\n",
    "from email.mime.multipart import MIMEMultipart\n",
    "from email.mime.text import MIMEText"
   ]
  },
  {
   "cell_type": "code",
   "execution_count": 2,
   "metadata": {},
   "outputs": [],
   "source": [
    "smtp_server = \"smtp.titan.email\" # Enter whatever server you are working with, here for example it is titan for Hostinger\n",
    "smtp_port = 587\n",
    "sender = \"your email\"\n",
    "password = \"your password\"\n",
    "cc_recipients = [\"list of recipients emails\"]\n",
    "batch_size = 50  # Number of recipients to send in each batch\n",
    "delay_seconds = 5  # Delay between sending each batch (in seconds)\n",
    "\n",
    "#context = ssl.create_default_context()"
   ]
  },
  {
   "cell_type": "code",
   "execution_count": 3,
   "metadata": {},
   "outputs": [],
   "source": [
    "import csv\n",
    "\n",
    "def csv_to_list(csv_file):\n",
    "    email_list = []\n",
    "    \n",
    "    with open(csv_file, 'r') as file:\n",
    "        reader = csv.reader(file)\n",
    "        next(reader)  # Skip the header row\n",
    "        \n",
    "        for row in reader:\n",
    "            email_list.append(row[0])  # Assuming the email is in the first column of the CSV\n",
    "        \n",
    "    return email_list"
   ]
  },
  {
   "cell_type": "code",
   "execution_count": 4,
   "metadata": {},
   "outputs": [],
   "source": [
    "emails = csv_to_list(r'C:\\Users\\LENOVO\\Desktop\\output.csv')"
   ]
  },
  {
   "cell_type": "code",
   "execution_count": 7,
   "metadata": {},
   "outputs": [],
   "source": [
    "del emails[:49]"
   ]
  },
  {
   "cell_type": "code",
   "execution_count": 12,
   "metadata": {},
   "outputs": [],
   "source": [
    "#print(emails)"
   ]
  },
  {
   "cell_type": "code",
   "execution_count": 5,
   "metadata": {},
   "outputs": [],
   "source": [
    "html_content_partnership = r\"\"\"\n",
    "\n",
    "YOUR HTML MAIL\n",
    "\n",
    "\"\"\"\n"
   ]
  },
  {
   "cell_type": "code",
   "execution_count": null,
   "metadata": {},
   "outputs": [],
   "source": [
    "try:\n",
    "    s = smtplib.SMTP(smtp_server, smtp_port)\n",
    "    s.set_debuglevel(1)\n",
    "\n",
    "    s.ehlo()\n",
    "    s.starttls()\n",
    "    s.login(sender, password)\n",
    "\n",
    "    subject = \"\"\n",
    "\n",
    "    for i in range(0, len(emails), batch_size):\n",
    "        batch_recipients = emails[i:i + batch_size]\n",
    "\n",
    "        for recipient in batch_recipients:\n",
    "            msg = MIMEMultipart('alternative')\n",
    "            msg['From'] = sender\n",
    "            msg['To'] = recipient\n",
    "            msg['Subject'] = subject\n",
    "\n",
    "            msg.attach(MIMEText(html_content_partnership, 'html'))\n",
    "\n",
    "            #msg['Cc'] = recipient\n",
    "\n",
    "            s.sendmail(sender, recipient, msg.as_string())\n",
    "            print(f\"Email sent to: {recipient}\")\n",
    "            time.sleep(delay_seconds)  # Add a delay between sending each email\n",
    "\n",
    "    print(\"All emails sent successfully!\")\n",
    "except Exception as e:\n",
    "    print(f\"Failed to send the emails: {e}\")\n",
    "finally:\n",
    "    s.quit()"
   ]
  }
 ],
 "metadata": {
  "kernelspec": {
   "display_name": "Python 3.9.5 64-bit",
   "language": "python",
   "name": "python3"
  },
  "language_info": {
   "codemirror_mode": {
    "name": "ipython",
    "version": 3
   },
   "file_extension": ".py",
   "mimetype": "text/x-python",
   "name": "python",
   "nbconvert_exporter": "python",
   "pygments_lexer": "ipython3",
   "version": "3.9.5"
  },
  "orig_nbformat": 4,
  "vscode": {
   "interpreter": {
    "hash": "e31aef8222fb7c235d2ed8e74ce17e973738f89b37261e7466b7a63a6dfb1214"
   }
  }
 },
 "nbformat": 4,
 "nbformat_minor": 2
}
